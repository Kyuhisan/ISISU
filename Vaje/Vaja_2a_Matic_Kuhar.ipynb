{
  "nbformat": 4,
  "nbformat_minor": 0,
  "metadata": {
    "colab": {
      "provenance": []
    },
    "kernelspec": {
      "name": "python3",
      "display_name": "Python 3"
    },
    "language_info": {
      "name": "python"
    }
  },
  "cells": [
    {
      "cell_type": "code",
      "source": [
        "from datetime import datetime\n",
        "\n",
        "class Nogometas :\n",
        "  def __init__(self, ime, priimek, starost, pozicija = \"Vezist\") :\n",
        "    self.ime = ime\n",
        "    self.priimek = priimek\n",
        "    self.starost = starost\n",
        "    self.pozicija = pozicija\n",
        "\n",
        "  def nastaviPozicijo(self, novaPozicija) :\n",
        "    self.pozicija = novaPozicija\n",
        "\n",
        "  def letnicaRojstva(self) :\n",
        "    return (datetime.now().year - self.starost)\n",
        "\n",
        "  def opisNogometasa(self) :\n",
        "    print(\"Nogometaš\", self.ime, self.priimek, \"rojen leta\", self.letnicaRojstva(), \"igra na poziciji\", self.pozicija)\n",
        "\n",
        "nogometas1 = Nogometas(\"Matic\", \"Kuhar\", 25)\n",
        "nogometas2 = Nogometas(\"Janez\", \"Petrič\", 35)\n",
        "nogometas3 = Nogometas(\"Peter\", \"Krevh\", 21, \"Napad\")\n",
        "nogometas4 = Nogometas(\"Tilen\", \"Kac\", 23, \"Napad\")\n",
        "nogometas5 = Nogometas(\"Bojan\", \"Radič\", 22, \"Obramba\")\n",
        "nogometas6 = Nogometas(\"Jaka\", \"Bovc\", 24, \"Obramba\")\n",
        "\n",
        "nogometas1.opisNogometasa()\n",
        "nogometas1.nastaviPozicijo(\"Vratar\")\n",
        "nogometas1.opisNogometasa()"
      ],
      "metadata": {
        "colab": {
          "base_uri": "https://localhost:8080/"
        },
        "id": "uDVXRrdyYjK4",
        "outputId": "60304b93-cc6f-494d-9345-39eb0a101c00"
      },
      "execution_count": 14,
      "outputs": [
        {
          "output_type": "stream",
          "name": "stdout",
          "text": [
            "Nogometaš Matic Kuhar rojen leta 1999 igra na poziciji Vezist\n",
            "Nogometaš Matic Kuhar rojen leta 1999 igra na poziciji Vratar\n"
          ]
        }
      ]
    },
    {
      "cell_type": "code",
      "execution_count": 15,
      "metadata": {
        "colab": {
          "base_uri": "https://localhost:8080/"
        },
        "id": "GIwzzSjoYeZs",
        "outputId": "951405b0-9ec8-40fb-e42b-5d43ed38306a"
      },
      "outputs": [
        {
          "output_type": "stream",
          "name": "stdout",
          "text": [
            "V klubu SLO Klub igra 6 igralcev.\n"
          ]
        }
      ],
      "source": [
        "class NogometniKlub(Nogometas) :\n",
        "  def __init__(self, naziv, letnicaUstanovitve, seznamNogometasev = []) :\n",
        "    self.naziv = naziv\n",
        "    self.letnicaUstanovitve = letnicaUstanovitve\n",
        "    self.seznamNogometasev = seznamNogometasev\n",
        "\n",
        "  def izpisStevilaNogometasev(self) :\n",
        "    print(\"V klubu\", self.naziv, \"igra\", len(self.seznamNogometasev), \"igralcev.\")\n",
        "\n",
        "  def izpisPovprecneStarosti(self) :\n",
        "    povprecje = sum(nogometas.starost for nogometas in self.seznamNogometasev) / len(self.seznamNogometasev)\n",
        "    print(\"Povprecna starost v klubu\", self.naziv, \"je\", povprecje, \"let.\")\n",
        "\n",
        "  def izpisPrvihNogometasov(self, x=2) :\n",
        "    for nogometas in self.seznamNogometasev[:x] :\n",
        "      print(nogometas.ime, nogometas.priimek)\n",
        "\n",
        "  def izpisZadnjihNogometasov(self, x=2) :\n",
        "    for nogometas in self.seznamNogometasev[-x:] :\n",
        "      print(nogometas.ime, nogometas.priimek)\n",
        "\n",
        "  def dodajNogometasaNaSeznam(self, novNogometas, lokacija=None) :\n",
        "    if lokacija is None :\n",
        "      self.seznamNogometasev.append(novNogometas)\n",
        "    else :\n",
        "      self.seznamNogometasev.insert(lokacija, novNogometas)\n",
        "\n",
        "  def odstraniNogometasaNaSeznam(self, lokacija=None) :\n",
        "    if lokacija is None :\n",
        "      self.seznamNogometasev.remove(self.seznamNogometasev[-1])\n",
        "    else :\n",
        "      self.seznamNogometasev.pop(lokacija)\n",
        "\n",
        "nogometniKlub1 = NogometniKlub(\"SLO Klub\", 1991)\n",
        "nogometniKlub1.izpisStevilaNogometasev()"
      ]
    },
    {
      "cell_type": "code",
      "source": [
        "nogometniKlub1.izpisPovprecneStarosti()"
      ],
      "metadata": {
        "colab": {
          "base_uri": "https://localhost:8080/"
        },
        "id": "aJIkAvzaVlZJ",
        "outputId": "c7bec03f-06d3-4255-bd3b-a99e75e001ef"
      },
      "execution_count": 16,
      "outputs": [
        {
          "output_type": "stream",
          "name": "stdout",
          "text": [
            "Povprecna starost v klubu SLO Klub je 25.0 let.\n"
          ]
        }
      ]
    },
    {
      "cell_type": "code",
      "source": [
        "nogometniKlub1.izpisPrvihNogometasov()"
      ],
      "metadata": {
        "colab": {
          "base_uri": "https://localhost:8080/"
        },
        "id": "dbc3lWiQVods",
        "outputId": "d7f5cd95-1087-4366-eb23-8454750298ee"
      },
      "execution_count": 17,
      "outputs": [
        {
          "output_type": "stream",
          "name": "stdout",
          "text": [
            "Matic Kuhar\n",
            "Janez Petrič\n"
          ]
        }
      ]
    },
    {
      "cell_type": "code",
      "source": [
        "nogometniKlub1.izpisPrvihNogometasov(4)"
      ],
      "metadata": {
        "colab": {
          "base_uri": "https://localhost:8080/"
        },
        "id": "Ovl0nxX8VuVW",
        "outputId": "b0e20929-c673-479d-8347-dedfdf0f0bbb"
      },
      "execution_count": 18,
      "outputs": [
        {
          "output_type": "stream",
          "name": "stdout",
          "text": [
            "Matic Kuhar\n",
            "Janez Petrič\n",
            "Peter Krevh\n",
            "Tilen Kac\n"
          ]
        }
      ]
    },
    {
      "cell_type": "code",
      "source": [
        "nogometniKlub1.izpisZadnjihNogometasov()"
      ],
      "metadata": {
        "colab": {
          "base_uri": "https://localhost:8080/"
        },
        "id": "i9Vf6y6KVwsQ",
        "outputId": "06efd1c5-21dd-4d73-da75-b9e408ad8a9c"
      },
      "execution_count": 19,
      "outputs": [
        {
          "output_type": "stream",
          "name": "stdout",
          "text": [
            "Bojan Radič\n",
            "Jaka Bovc\n"
          ]
        }
      ]
    },
    {
      "cell_type": "code",
      "source": [
        "nogometniKlub1.dodajNogometasaNaSeznam(Nogometas(\"Pepček\", \"Novak\", 19))\n",
        "nogometniKlub1.dodajNogometasaNaSeznam(Nogometas(\"Jožek\", \"Drzni\", 22), 3)\n",
        "nogometniKlub1.izpisPrvihNogometasov(10)"
      ],
      "metadata": {
        "colab": {
          "base_uri": "https://localhost:8080/"
        },
        "id": "IeQ2-tB1Vy3v",
        "outputId": "b1c4ed7e-e9b1-4514-9894-bdcdafd83458"
      },
      "execution_count": 20,
      "outputs": [
        {
          "output_type": "stream",
          "name": "stdout",
          "text": [
            "Matic Kuhar\n",
            "Janez Petrič\n",
            "Peter Krevh\n",
            "Jožek Drzni\n",
            "Tilen Kac\n",
            "Bojan Radič\n",
            "Jaka Bovc\n",
            "Pepček Novak\n"
          ]
        }
      ]
    },
    {
      "cell_type": "code",
      "source": [
        "nogometniKlub1.odstraniNogometasaNaSeznam()\n",
        "nogometniKlub1.izpisPrvihNogometasov(10)"
      ],
      "metadata": {
        "colab": {
          "base_uri": "https://localhost:8080/"
        },
        "id": "q3rmf7UvV4ir",
        "outputId": "e35ad73f-64ec-4578-cff2-48bb3533ac8f"
      },
      "execution_count": 21,
      "outputs": [
        {
          "output_type": "stream",
          "name": "stdout",
          "text": [
            "Matic Kuhar\n",
            "Janez Petrič\n",
            "Peter Krevh\n",
            "Jožek Drzni\n",
            "Tilen Kac\n",
            "Bojan Radič\n",
            "Jaka Bovc\n"
          ]
        }
      ]
    },
    {
      "cell_type": "code",
      "source": [
        "nogometniKlub1.odstraniNogometasaNaSeznam(2)\n",
        "nogometniKlub1.izpisPrvihNogometasov(10)"
      ],
      "metadata": {
        "colab": {
          "base_uri": "https://localhost:8080/"
        },
        "id": "xfada6Q5V-v8",
        "outputId": "fb7b18f3-58e6-4f60-f076-c3176770ebf2"
      },
      "execution_count": 22,
      "outputs": [
        {
          "output_type": "stream",
          "name": "stdout",
          "text": [
            "Matic Kuhar\n",
            "Janez Petrič\n",
            "Jožek Drzni\n",
            "Tilen Kac\n",
            "Bojan Radič\n",
            "Jaka Bovc\n"
          ]
        }
      ]
    }
  ]
}