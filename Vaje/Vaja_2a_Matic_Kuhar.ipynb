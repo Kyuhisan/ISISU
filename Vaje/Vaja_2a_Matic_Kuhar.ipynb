{
  "nbformat": 4,
  "nbformat_minor": 0,
  "metadata": {
    "colab": {
      "provenance": []
    },
    "kernelspec": {
      "name": "python3",
      "display_name": "Python 3"
    },
    "language_info": {
      "name": "python"
    }
  },
  "cells": [
    {
      "cell_type": "code",
      "source": [
        "from datetime import datetime\n",
        "\n",
        "class Nogometas :\n",
        "  def __init__(self, ime, priimek, starost, pozicija = \"Vezist\") :\n",
        "    self.ime = ime\n",
        "    self.priimek = priimek\n",
        "    self.starost = starost\n",
        "    self.pozicija = pozicija\n",
        "\n",
        "  def nastaviPozicijo(self, novaPozicija) :\n",
        "    self.pozicija = novaPozicija\n",
        "\n",
        "  def letnicaRojstva(self) :\n",
        "    return (datetime.now().year - self.starost)\n",
        "\n",
        "  def opisNogometasa(self) :\n",
        "    print(\"Nogometaš\", self.ime, self.priimek, \"rojen leta\", self.letnicaRojstva(), \"igra na poziciji\", self.pozicija)\n",
        "\n",
        "nogometas1 = Nogometas(\"Matic\", \"Kuhar\", 25)\n",
        "nogometas2 = Nogometas(\"Janez\", \"Petrič\", 35)\n",
        "nogometas3 = Nogometas(\"Peter\", \"Krevh\", 21, \"Napad\")\n",
        "nogometas4 = Nogometas(\"Tilen\", \"Kac\", 23, \"Napad\")\n",
        "nogometas5 = Nogometas(\"Bojan\", \"Radič\", 22, \"Obramba\")\n",
        "nogometas6 = Nogometas(\"Jaka\", \"Bovc\", 24, \"Obramba\")\n",
        "\n",
        "nogometas1.opisNogometasa()\n",
        "nogometas1.nastaviPozicijo(\"Vratar\")\n",
        "nogometas1.opisNogometasa()"
      ],
      "metadata": {
        "colab": {
          "base_uri": "https://localhost:8080/"
        },
        "id": "uDVXRrdyYjK4",
        "outputId": "2800e818-f224-4ce9-9801-29d37fe42cfd"
      },
      "execution_count": 54,
      "outputs": [
        {
          "output_type": "stream",
          "name": "stdout",
          "text": [
            "Nogometaš Matic Kuhar rojen leta 1999 igra na poziciji Vezist\n",
            "Nogometaš Matic Kuhar rojen leta 1999 igra na poziciji Vratar\n"
          ]
        }
      ]
    },
    {
      "cell_type": "code",
      "execution_count": 84,
      "metadata": {
        "colab": {
          "base_uri": "https://localhost:8080/"
        },
        "id": "GIwzzSjoYeZs",
        "outputId": "8cd82ed9-e98f-4014-bc52-803c51fe2f75"
      },
      "outputs": [
        {
          "output_type": "stream",
          "name": "stdout",
          "text": [
            "Matic Kuhar\n",
            "Janez Petrič\n",
            "Peter Krevh\n",
            "Tilen Kac\n",
            "Bojan Radič\n",
            "Jaka Bovc\n",
            "Matic Kuhar\n",
            "Janez Petrič\n",
            "Tilen Kac\n",
            "Bojan Radič\n"
          ]
        }
      ],
      "source": [
        "class NogometniKlub(Nogometas) :\n",
        "  def __init__(self, naziv, letnicaUstanovitve, seznamNogometasev = [nogometas1, nogometas2, nogometas3, nogometas4, nogometas5, nogometas6]) :\n",
        "    self.naziv = naziv\n",
        "    self.letnicaUstanovitve = letnicaUstanovitve\n",
        "    self.seznamNogometasev = seznamNogometasev\n",
        "\n",
        "  def izpisStevilaNogometasev(self) :\n",
        "    print(\"V klubu\", self.naziv, \"igra\", len(self.seznamNogometasev), \"igralcev.\")\n",
        "\n",
        "  def izpisPovprecneStarosti(self) :\n",
        "    povprecje = sum(nogometas.starost for nogometas in self.seznamNogometasev) / len(self.seznamNogometasev)\n",
        "    print(\"Povprecna starost v klubu\", self.naziv, \"je\", povprecje, \"let.\")\n",
        "\n",
        "  def izpisPrvihNogometasov(self, x=2) :\n",
        "    for nogometas in self.seznamNogometasev[:x] :\n",
        "      print(nogometas.ime, nogometas.priimek)\n",
        "\n",
        "  def izpisZadnjihNogometasov(self, x=2) :\n",
        "    for nogometas in self.seznamNogometasev[-x:] :\n",
        "      print(nogometas.ime, nogometas.priimek)\n",
        "\n",
        "  def dodajNogometasaNaSeznam(self, novNogometas, lokacija=None) :\n",
        "    if lokacija is None :\n",
        "      self.seznamNogometasev.append(novNogometas)\n",
        "    else :\n",
        "      self.seznamNogometasev.insert(lokacija, novNogometas)\n",
        "\n",
        "  def odstraniNogometasaNaSeznam(self, lokacija=None) :\n",
        "    if lokacija is None :\n",
        "      self.seznamNogometasev.remove(self.seznamNogometasev[-1])\n",
        "    else :\n",
        "      self.seznamNogometasev.pop(lokacija)\n",
        "\n",
        "nogometniKlub1 = NogometniKlub(\"SLO Klub\", 1991)\n",
        "nogometniKlub1.izpisStevilaNogometasev()\n",
        "nogometniKlub1.izpisPovprecneStarosti()\n",
        "nogometniKlub1.izpisPrvihNogometasov()\n",
        "nogometniKlub1.izpisPrvihNogometasov(4)\n",
        "nogometniKlub1.izpisZadnjihNogometasov()\n",
        "nogometniKlub1.dodajNogometasaNaSeznam(Nogometas(\"Pepček\", \"Novak\", 19))\n",
        "nogometniKlub1.dodajNogometasaNaSeznam(Nogometas(\"Jožek\", \"Drzni\", 22), 3)\n",
        "nogometniKlub1.izpisPrvihNogometasov(10)\n",
        "nogometniKlub1.odstraniNogometasaNaSeznam()\n",
        "nogometniKlub1.odstraniNogometasaNaSeznam(2)\n",
        "nogometniKlub1.izpisPrvihNogometasov(10)"
      ]
    }
  ]
}