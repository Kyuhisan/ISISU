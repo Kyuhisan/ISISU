{
  "nbformat": 4,
  "nbformat_minor": 0,
  "metadata": {
    "colab": {
      "provenance": []
    },
    "kernelspec": {
      "name": "python3",
      "display_name": "Python 3"
    },
    "language_info": {
      "name": "python"
    }
  },
  "cells": [
    {
      "cell_type": "code",
      "execution_count": 3,
      "metadata": {
        "colab": {
          "base_uri": "https://localhost:8080/"
        },
        "id": "4l3gro_hz-Mr",
        "outputId": "d1bf2417-cde9-4282-b97c-8ebf9134b6b6"
      },
      "outputs": [
        {
          "output_type": "stream",
          "name": "stdout",
          "text": [
            "[['Matic', 'Kuhar', 90, 1999, 'Maribor', 'Slovenj Gradec'], ['Pes', 'Zajec', 'Volk'], [True, True, False, False], {'knjiga1': {'naslov': 'The Lord of The Rings The Fellowship of The Ring', 'stStrani': 432}, 'knjiga2': {'naslov': 'Dune', 'stStrani': 412}, 'knjiga3': {'naslov': 'The Sword of Shannara', 'stStrani': 672}}]\n"
          ]
        }
      ],
      "source": [
        "krovniSeznam = [[\"Matic\", \"Kuhar\", 90, 1999, \"Maribor\", \"Slovenj Gradec\"],\n",
        " [\"Pes\", \"Zajec\", \"Volk\"],\n",
        "  [True, True, False, False],\n",
        "  {\"knjiga1\" : {\n",
        "    \"naslov\" : \"The Lord of The Rings The Fellowship of The Ring\",\n",
        "    \"stStrani\" : 432\n",
        "  },\n",
        "  \"knjiga2\" : {\n",
        "    \"naslov\" : \"Dune\",\n",
        "    \"stStrani\" : 412\n",
        "  },\n",
        "  \"knjiga3\" : {\n",
        "    \"naslov\" : \"The Sword of Shannara\",\n",
        "    \"stStrani\" : 672\n",
        "  }}]\n",
        "\n",
        "print(krovniSeznam)\n",
        "\n",
        "# Ustvarite krovni seznam v katerega dodate tri podsezname in en slovar. Prvi podseznam naj vsebuje podatke o vas (ime, priimek, teža, letnica rojstva, kraj, od koder prihajate),\n",
        "# drugi naj vsebuje vaše 3 najljubše živali, tretji naj vsebuje vrednosti True, True, False, False, slovar pa naj vsebuje 3 vam najljubše knjige z njihovim številom strani.\n",
        "# Izpišite celoten seznam."
      ]
    },
    {
      "cell_type": "code",
      "source": [
        "print(type(krovniSeznam[0][2]))\n",
        "\n",
        "# Izpišite kakšnega podatkovnega tipa je teža."
      ],
      "metadata": {
        "colab": {
          "base_uri": "https://localhost:8080/"
        },
        "id": "_vbaqEFd5aS9",
        "outputId": "fb36f1e6-f249-4d6f-82f8-c31a8b18773f"
      },
      "execution_count": null,
      "outputs": [
        {
          "output_type": "stream",
          "name": "stdout",
          "text": [
            "<class 'int'>\n"
          ]
        }
      ]
    },
    {
      "cell_type": "code",
      "source": [
        "for x in krovniSeznam[2] :\n",
        "  if krovniSeznam[2][x] == True :\n",
        "    krovniSeznam[2][x] = False\n",
        "print(krovniSeznam[2])\n",
        "\n",
        "# S pomočjo IF stavka in FOR zanke spremenite vse True vrednosti v seznamu na False. Izpišite vrednosti tretjega podseznama."
      ],
      "metadata": {
        "colab": {
          "base_uri": "https://localhost:8080/"
        },
        "id": "CXAV9TMs6JEw",
        "outputId": "9826e273-c7ac-4353-8c02-050e9132a360"
      },
      "execution_count": 4,
      "outputs": [
        {
          "output_type": "stream",
          "name": "stdout",
          "text": [
            "[False, False, False, False]\n"
          ]
        }
      ]
    },
    {
      "cell_type": "code",
      "source": [
        "krovniSeznam[-1][list(krovniSeznam[-1].keys())[-1]][\"stStrani\"] = 150\n",
        "krovniSeznam[-1] = dict(sorted(krovniSeznam[-1].items(), key=lambda item: item[1]['stStrani']))\n",
        "print(krovniSeznam[-1]);\n",
        "# print(sorted(krovniSeznam[-1].items(), key=lambda item: item[1]['stStrani']))\n",
        "\n",
        "# Zadnji knjigi v slovarju zamenjajte število strani na 150 (brez da bi omenili ime knjige).\n",
        "# Izpišite seznam, tako da bodo knjige urjene od tiste z najmanj stranmi, do tiste z največ stranmi."
      ],
      "metadata": {
        "colab": {
          "base_uri": "https://localhost:8080/"
        },
        "id": "qEq5mNi598KB",
        "outputId": "ebab2ec6-78d6-4de7-e6ff-086dbbb5d131"
      },
      "execution_count": 18,
      "outputs": [
        {
          "output_type": "stream",
          "name": "stdout",
          "text": [
            "{'knjiga3': {'naslov': 'The Sword of Shannara', 'stStrani': 150}, 'knjiga1': {'naslov': 'The Lord of The Rings The Fellowship of The Ring', 'stStrani': 150}, 'knjiga2': {'naslov': 'Dune', 'stStrani': 412}}\n"
          ]
        }
      ]
    },
    {
      "cell_type": "code",
      "source": [
        "for x in krovniSeznam[-1].keys() :\n",
        "  if krovniSeznam[-1][x][\"stStrani\"] > 200 :\n",
        "    print(\"Knjiga \" + krovniSeznam[-1][x][\"naslov\"] + \" ima \" + str(krovniSeznam[-1][x][\"stStrani\"]) + \" strani.\")\n",
        "\n",
        "# Izpišite naslove knjig, ki imajo več kot 200 strani, v obliki \"Knjiga X ima Y strani.\"."
      ],
      "metadata": {
        "colab": {
          "base_uri": "https://localhost:8080/"
        },
        "id": "FMCLvrD9GMcZ",
        "outputId": "adf10641-2c8e-4eab-84ae-460da26b7e8f"
      },
      "execution_count": null,
      "outputs": [
        {
          "output_type": "stream",
          "name": "stdout",
          "text": [
            "Knjiga The Lord of The Rings The Fellowship of The Ring ima 432 strani.\n",
            "Knjiga Dune ima 412 strani.\n"
          ]
        }
      ]
    },
    {
      "cell_type": "code",
      "source": [
        "for x in krovniSeznam[-1].keys() :\n",
        "  if krovniSeznam[-1][x][\"stStrani\"] < 200 :\n",
        "    del krovniSeznam[-1][x]\n",
        "print(krovniSeznam)\n",
        "\n",
        "# Preko krovnega seznama izbrišite vse knjige z manj kot 200 stranmi. Ponovno izpišite celoten seznam."
      ],
      "metadata": {
        "colab": {
          "base_uri": "https://localhost:8080/"
        },
        "id": "rGzCRm4ANsRa",
        "outputId": "1b17c0bd-d7a4-44a1-9fbb-f946db4347c5"
      },
      "execution_count": null,
      "outputs": [
        {
          "output_type": "stream",
          "name": "stdout",
          "text": [
            "[['Matic', 'Kuhar', 90, 1999, 'Maribor', 'Slovenj Gradec'], ['Pes', 'Zajec', 'Volk'], [True, True, False, False], {'knjiga1': {'naslov': 'The Lord of The Rings The Fellowship of The Ring', 'stStrani': 432}, 'knjiga2': {'naslov': 'Dune', 'stStrani': 412}}]\n"
          ]
        }
      ]
    },
    {
      "cell_type": "code",
      "source": [
        "for x in krovniSeznam[1] :\n",
        "  if \"a\" in x :\n",
        "    krovniSeznam[1].remove(x)\n",
        "print(krovniSeznam)\n",
        "\n",
        "# Preko krovnega seznama izbrišite vse živali, ki ne vsebujejo črke 'a'. Ponovno izpišite celoten seznam."
      ],
      "metadata": {
        "colab": {
          "base_uri": "https://localhost:8080/"
        },
        "id": "HzSsWLQ6Rj9Y",
        "outputId": "e3a4f9c4-30d8-4133-88a8-917dce58b1ba"
      },
      "execution_count": null,
      "outputs": [
        {
          "output_type": "stream",
          "name": "stdout",
          "text": [
            "[['Matic', 'Kuhar', 90, 1999, 'Maribor', 'Slovenj Gradec'], ['Pes', 'Volk'], [True, True, False, False], {'knjiga1': {'naslov': 'The Lord of The Rings The Fellowship of The Ring', 'stStrani': 432}, 'knjiga2': {'naslov': 'Dune', 'stStrani': 412}, 'knjiga3': {'naslov': 'The Sword of Shannara', 'stStrani': 672}}]\n"
          ]
        }
      ]
    },
    {
      "cell_type": "code",
      "source": [
        "for prestopnoLeto in range(1992, 2025) :\n",
        "  if (prestopnoLeto % 4 == 0 and prestopnoLeto % 100 != 0) or (prestopnoLeto % 400 == 0) :\n",
        "    print(prestopnoLeto)\n",
        "\n",
        "# S pomočjo FOR zanke in IF stavka izpišite vsa prestopna leta od leta 1992 do 2025."
      ],
      "metadata": {
        "colab": {
          "base_uri": "https://localhost:8080/"
        },
        "id": "yZk9UwIGUySu",
        "outputId": "e0156d5b-6c86-4e22-9acc-2023ea8d8d1c"
      },
      "execution_count": null,
      "outputs": [
        {
          "output_type": "stream",
          "name": "stdout",
          "text": [
            "1992\n",
            "1996\n",
            "2000\n",
            "2004\n",
            "2008\n",
            "2012\n",
            "2016\n",
            "2020\n",
            "2024\n"
          ]
        }
      ]
    },
    {
      "cell_type": "code",
      "source": [
        "for stevka in str(1578993) :\n",
        "  if int(stevka) > 5 :\n",
        "    print(stevka)\n",
        "\n",
        "# S pomočjo FOR zanke in IF stavka izpišite vse števke v številu 1578993, ki so večje od 5."
      ],
      "metadata": {
        "colab": {
          "base_uri": "https://localhost:8080/"
        },
        "id": "jTivrSvDWFnd",
        "outputId": "93899f7b-b3c7-4b3d-9787-1d6115d6b4b4"
      },
      "execution_count": null,
      "outputs": [
        {
          "output_type": "stream",
          "name": "stdout",
          "text": [
            "7\n",
            "8\n",
            "9\n",
            "9\n"
          ]
        }
      ]
    },
    {
      "cell_type": "code",
      "source": [
        "stevilo = 101\n",
        "\n",
        "if stevilo <= 1:\n",
        "    print(\"Ni praštevilo\")\n",
        "for i in range(2, int(stevilo**0.5) + 1):\n",
        "    if stevilo % i == 0:\n",
        "        print(\"Ni praštevilo\")\n",
        "print(\"Je praštevilo\")\n",
        "\n",
        "# Napišite program, ki bo preveril, ali je določeno število praštevilo ali ne."
      ],
      "metadata": {
        "colab": {
          "base_uri": "https://localhost:8080/"
        },
        "id": "Ai9YdHb_Wn5s",
        "outputId": "e3570660-eeb0-4adf-c6f6-c9b70fcc1f01"
      },
      "execution_count": 17,
      "outputs": [
        {
          "output_type": "stream",
          "name": "stdout",
          "text": [
            "Je praštevilo\n"
          ]
        }
      ]
    },
    {
      "cell_type": "code",
      "source": [
        "vsota = 0\n",
        "\n",
        "for x in range(0, 101) :\n",
        "  if x % 2 == 0 and x != 0 :\n",
        "    vsota += x\n",
        "print(vsota)\n",
        "\n",
        "# Napišite program, ki bo izračunal vsoto vseh sodih števil med 1 in 100 (vključno)."
      ],
      "metadata": {
        "colab": {
          "base_uri": "https://localhost:8080/"
        },
        "id": "s1TCdhqbX_Xv",
        "outputId": "63759d75-3679-439a-b9ac-f0dd06eae567"
      },
      "execution_count": 14,
      "outputs": [
        {
          "output_type": "stream",
          "name": "stdout",
          "text": [
            "2550\n"
          ]
        }
      ]
    },
    {
      "cell_type": "code",
      "source": [],
      "metadata": {
        "id": "KOGC7IyjbD5M"
      },
      "execution_count": null,
      "outputs": []
    }
  ]
}